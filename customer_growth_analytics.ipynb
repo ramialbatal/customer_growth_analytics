{
 "cells": [
  {
   "cell_type": "markdown",
   "metadata": {},
   "source": [
    "# Introduction\n",
    "In this notebook I am going to explain the steps that I followed to suggest descriptive and predictive analysis of future merchants transactions/growth data.\n",
    "\n",
    "\n",
    "## Technical specifications\n",
    "\n",
    "* To run notebook on your machine please create a virtual environment with python 3.6.x, or pyton 2.7.x and install:\n",
    "  * tensorflow (if CPU `pip install tensorflow`, if GPU `pip install tensorflow-gpu`).\n",
    "  * keras\n",
    "  * matplotlib\n",
    "  * seaborn\n",
    "  * pandas\n",
    "  * scikit-learn\n",
    "  * numpy\n",
    "\n",
    "* To run this notebook in a virtual environment:\n",
    "\n",
    " * create and activate a Python virtual environment (let's call it `test-virtualenv`), then run the following two commands.\n",
    " \n",
    " * `(test-virtualenv) $ pip install ipykernel`\n",
    " \n",
    " * `(test-virtualenv) $ ipython kernel install --user --name=test-virtualenv`\n",
    " \n",
    " * start jupyter notebook and select the virtual environment from the Kernel menu (Kernel -> change kernel)"
   ]
  },
  {
   "cell_type": "code",
   "execution_count": 559,
   "metadata": {
    "collapsed": true
   },
   "outputs": [],
   "source": [
    "# To display and store the plots within the notebook.\n",
    "%matplotlib inline\n",
    "import seaborn as sns; sns.set()"
   ]
  },
  {
   "cell_type": "markdown",
   "metadata": {},
   "source": [
    "# Reading and pre-processing the data"
   ]
  },
  {
   "cell_type": "markdown",
   "metadata": {},
   "source": [
    "## Checking the raw data\n",
    "Using the bash command `head` on the provided raw file, we can quickly check the data and see that we have three columns, one of them is a date time column that needs to be properly parsed."
   ]
  },
  {
   "cell_type": "code",
   "execution_count": 560,
   "metadata": {},
   "outputs": [
    {
     "name": "stdout",
     "output_type": "stream",
     "text": [
      "user,time,amount_in_cents\n",
      "\"00038f0484334ac047449166cfbbf6452b31c85c\",\"2016-02-19T23:39:56.925Z\",1203\n",
      "\"00038f0484334ac047449166cfbbf6452b31c85c\",\"2016-02-19T23:41:47.026Z\",1203\n",
      "\"00038f0484334ac047449166cfbbf6452b31c85c\",\"2016-02-23T15:19:54.836Z\",2405\n",
      "\"00038f0484334ac047449166cfbbf6452b31c85c\",\"2016-02-23T15:21:08.273Z\",2405\n",
      "\"00038f0484334ac047449166cfbbf6452b31c85c\",\"2016-02-24T15:19:39.386Z\",1203\n",
      "\"00038f0484334ac047449166cfbbf6452b31c85c\",\"2016-02-24T19:07:41.768Z\",3007\n",
      "\"00038f0484334ac047449166cfbbf6452b31c85c\",\"2016-02-24T19:14:07.347Z\",3007\n",
      "\"00038f0484334ac047449166cfbbf6452b31c85c\",\"2016-02-24T19:37:20.946Z\",1203\n",
      "\"00038f0484334ac047449166cfbbf6452b31c85c\",\"2016-02-24T21:46:34.232Z\",1203\n"
     ]
    }
   ],
   "source": [
    "%%bash\n",
    "\n",
    "head -10 case_final.csv"
   ]
  },
  {
   "cell_type": "markdown",
   "metadata": {},
   "source": [
    "## Loading and pre-processing of the Data <a id='loading_original_anchor'></a>\n",
    "\n",
    "- We will load the data into a Pandas Dataframe.\n",
    "- The dates need to be parsed in order to convert it to a datetime type, for that we will define a custom function ```parse_datetime```.\n",
    "- Additional columns will be created from the parsed date, in order to facilitate further analysis and grouping on the data."
   ]
  },
  {
   "cell_type": "code",
   "execution_count": 523,
   "metadata": {},
   "outputs": [
    {
     "name": "stdout",
     "output_type": "stream",
     "text": [
      "Null Values exist: False\n"
     ]
    }
   ],
   "source": [
    "from pandas import read_csv\n",
    "import pandas as pd\n",
    "import datetime\n",
    "\n",
    "\n",
    "# A helper function that parses the date.\n",
    "# Remark: by starting with a very simple parse, I noticed that not all dates will get parsed. \n",
    "#         The dates have two fomrats: %Y-%m-%dT%H:%M:%SZ or %Y-%m-%dT%H:%M:%S.ZZZZ\n",
    "#         that's why two corresponding parsing templates are used.\n",
    "def parse_datetime(dt_str):\n",
    "        date_parts = dt_str.split(\".\")\n",
    "        if len(date_parts) == 1: # The format is %Y-%m-%dT%H:%M:%SZ\n",
    "            return datetime.datetime.strptime(dt_str, \"%Y-%m-%dT%H:%M:%SZ\")\n",
    "        else: # The format is %Y-%m-%dT%H:%M:%S.ZZZZ\n",
    "            dt, _, us = dt_str.partition(\".\")\n",
    "            dt = datetime.datetime.strptime(dt, \"%Y-%m-%dT%H:%M:%S\")\n",
    "            us = int(us.rstrip(\"Z\"), 10)\n",
    "            return dt + datetime.timedelta(microseconds=us)\n",
    "    \n",
    "# Reading the raw csv:\n",
    "# By using the parse_dates argument, we specify which column in the origninal data represents a datetime value.\n",
    "# To create a date column we use parse_datetime function defined above and we assign it to the date_parser argument\n",
    "# By doing so, we will get a datetime column that replaces the original string column\n",
    "df = read_csv('case_final.csv',  parse_dates = ['time'], date_parser=parse_datetime)\n",
    "\n",
    "# Make sure that there is no null values in the dataframe\n",
    "print(\"Null Values exist: %r\" % df.isnull().values.any())\n",
    "\n",
    "# We use the time column to extract additional columns that represent the day, month, year and hour\n",
    "# These columns will help us later for both our descriptive and predictive analysis\n",
    "df['day'] = df.time.dt.day\n",
    "df['month'] = df.time.dt.month\n",
    "df['year'] = df.time.dt.year\n",
    "\n",
    "# Two additional columns that will be used later when we design a prediction algorithm\n",
    "# The first one is the number of days in month.\n",
    "# The second is a year-month datetime format \n",
    "#   (basically it is the same as the time column but without the day, hour, minute, seconds information)\n",
    "df['days_in_month'] = df.time.dt.daysinmonth\n",
    "df['year_month'] = df.time.dt.to_period('M')"
   ]
  },
  {
   "cell_type": "markdown",
   "metadata": {},
   "source": [
    "## Aggregating the data per user\n"
   ]
  },
  {
   "cell_type": "code",
   "execution_count": 527,
   "metadata": {
    "collapsed": true
   },
   "outputs": [],
   "source": [
    "# Using the groupby function in Pandas, I extracted the first and last datetimes where the user was active.\n",
    "# I have also generated the sum, minimum and maximum of amounts for each user,\n",
    "#         in addition to the total number of transactions done by the user.\n",
    "\n",
    "df_user_agg = df.groupby('user').agg({'time':[\"min\", \"max\"], 'amount_in_cents':[\"sum\", \"min\", \"max\", \"count\"]}).reset_index()\n",
    "\n",
    "# The following two lines are for naming the new columns\n",
    "df_user_agg.columns = df_user_agg.columns.droplevel(0)\n",
    "df_user_agg.columns = ['user', 'min_time', 'max_time', 'total_amount', 'min_amount', 'max_amount', 'num_trans']"
   ]
  },
  {
   "cell_type": "markdown",
   "metadata": {},
   "source": [
    "### What are the features that describe a merchant?\n",
    "\n",
    "After grouping and aggregating the data per user, we need to think about the features that describe the activities of the merchants.\n",
    "\n",
    "My reasoning is focused on the following facts:\n",
    "- The longer the period where the merchant appears in the data the more important the merchant is.\n",
    "- The more transactions the merchant does the better.\n",
    "- The higher amounts the merchant spends the better.\n",
    "\n",
    "We can define an attractive merchant as: **\"A merchant who is active for a long period, and doing frequent transactions with high amounts.\"**\n",
    "\n",
    "If a merchant shows a behaviour similar to those attractive merchants then we can expect that he is or he will become in the near future an attractive merchant as well.\n",
    "\n",
    "To translate the three points mentioned above, I defined three new columns:\n",
    "- **active_period**: the number of days between the min and max dates for each user.\n",
    "- **avg_daily_amount**: the average amount that the merchant has spent on a daily basis during his active_period. Which is the total_amount claculated in the previous cell devided by the active_period.\n",
    "- **avg_daily_trans**: the average number of daily transactions that the user did during his active period. Which is the total number of transaction (num_trans claculated in the previous cell) devided by the active_period.\n",
    "\n",
    "Note that the *active_period* is simply the difference (in term of days) between the earlist transaction date and the latest transaction date for a particular user. It is not necessary to find transactions in each day during this period, this period can be sparse."
   ]
  },
  {
   "cell_type": "code",
   "execution_count": 531,
   "metadata": {},
   "outputs": [],
   "source": [
    "# Adding three columns calculated from the columns built in the previous cell.\n",
    "df_user_agg['active_period'] = (df_user_agg['max_time']-df_user_agg['min_time']).dt.days.add(1)\n",
    "df_user_agg['avg_daily_amount'] = df_user_agg['total_amount']/df_user_agg['active_period']\n",
    "df_user_agg['avg_daily_trans'] = df_user_agg['num_trans']/df_user_agg['active_period']"
   ]
  },
  {
   "cell_type": "markdown",
   "metadata": {},
   "source": [
    "### Highly skewed data!\n",
    "By calling the **describe** function on a DataFrame, we can get a summary of the values of each column.\n",
    "As we see in the next cell:\n",
    "- we have in total 8402 merchants in our dataset.\n",
    "- 25% of the merchants are only active for very short period (25% of the merchants have active_period euqal or less than 4). But despite this start, the rest of the values looks like distributed in an equivalent way (this will be clearer in the cell after the table).\n",
    "- the average daily amount varies greatly, between zero and ~5.7 millions cents. With an average of only 20 thousands, which means a high skew to the right.\n",
    "- the same can be noticed with the average daily transactions. Most merchants do no more than 1 transaction per day (75% of all merchant do in aveage one or less than one transaction per day). While the maximum value can go up to 476.\n",
    "- These observations are made clearer after two cells, where we can see the frequency distribution graphs."
   ]
  },
  {
   "cell_type": "code",
   "execution_count": 532,
   "metadata": {},
   "outputs": [
    {
     "data": {
      "text/html": [
       "<div>\n",
       "<style scoped>\n",
       "    .dataframe tbody tr th:only-of-type {\n",
       "        vertical-align: middle;\n",
       "    }\n",
       "\n",
       "    .dataframe tbody tr th {\n",
       "        vertical-align: top;\n",
       "    }\n",
       "\n",
       "    .dataframe thead th {\n",
       "        text-align: right;\n",
       "    }\n",
       "</style>\n",
       "<table border=\"1\" class=\"dataframe\">\n",
       "  <thead>\n",
       "    <tr style=\"text-align: right;\">\n",
       "      <th></th>\n",
       "      <th>active_period</th>\n",
       "      <th>avg_daily_amount</th>\n",
       "      <th>avg_daily_trans</th>\n",
       "    </tr>\n",
       "  </thead>\n",
       "  <tbody>\n",
       "    <tr>\n",
       "      <th>count</th>\n",
       "      <td>8402.000000</td>\n",
       "      <td>8.402000e+03</td>\n",
       "      <td>8402.000000</td>\n",
       "    </tr>\n",
       "    <tr>\n",
       "      <th>mean</th>\n",
       "      <td>156.157463</td>\n",
       "      <td>2.104727e+04</td>\n",
       "      <td>1.357604</td>\n",
       "    </tr>\n",
       "    <tr>\n",
       "      <th>std</th>\n",
       "      <td>140.138524</td>\n",
       "      <td>1.256426e+05</td>\n",
       "      <td>8.832509</td>\n",
       "    </tr>\n",
       "    <tr>\n",
       "      <th>min</th>\n",
       "      <td>1.000000</td>\n",
       "      <td>0.000000e+00</td>\n",
       "      <td>0.005731</td>\n",
       "    </tr>\n",
       "    <tr>\n",
       "      <th>25%</th>\n",
       "      <td>4.000000</td>\n",
       "      <td>4.810000e+02</td>\n",
       "      <td>0.070423</td>\n",
       "    </tr>\n",
       "    <tr>\n",
       "      <th>50%</th>\n",
       "      <td>133.000000</td>\n",
       "      <td>2.119866e+03</td>\n",
       "      <td>0.299010</td>\n",
       "    </tr>\n",
       "    <tr>\n",
       "      <th>75%</th>\n",
       "      <td>304.000000</td>\n",
       "      <td>9.002371e+03</td>\n",
       "      <td>1.000000</td>\n",
       "    </tr>\n",
       "    <tr>\n",
       "      <th>max</th>\n",
       "      <td>366.000000</td>\n",
       "      <td>5.670619e+06</td>\n",
       "      <td>476.500000</td>\n",
       "    </tr>\n",
       "  </tbody>\n",
       "</table>\n",
       "</div>"
      ],
      "text/plain": [
       "       active_period  avg_daily_amount  avg_daily_trans\n",
       "count    8402.000000      8.402000e+03      8402.000000\n",
       "mean      156.157463      2.104727e+04         1.357604\n",
       "std       140.138524      1.256426e+05         8.832509\n",
       "min         1.000000      0.000000e+00         0.005731\n",
       "25%         4.000000      4.810000e+02         0.070423\n",
       "50%       133.000000      2.119866e+03         0.299010\n",
       "75%       304.000000      9.002371e+03         1.000000\n",
       "max       366.000000      5.670619e+06       476.500000"
      ]
     },
     "execution_count": 532,
     "metadata": {},
     "output_type": "execute_result"
    }
   ],
   "source": [
    "df_user_agg[['active_period', 'avg_daily_amount', 'avg_daily_trans']].describe()"
   ]
  },
  {
   "cell_type": "markdown",
   "metadata": {},
   "source": [
    "### Visualising the features of all users\n",
    "\n",
    "Here I provide an equivalent visualisation of the table above.\n",
    "I order the users by the value of each feature and plot all values.\n",
    "- The figures show that very few merchants have large averge number of transactions per day and a large average daily amount.\n",
    "- In the blue figure we find about 2000 merchants with very short active period, then the the curve goes up smoothly, which means that we can find merchants who fall in any active period. **This is an oportunity for the sales/data teams to try to identify which interval we can focus on in order to retain the merchants inside it.**"
   ]
  },
  {
   "cell_type": "code",
   "execution_count": 574,
   "metadata": {},
   "outputs": [
    {
     "data": {
      "image/png": "[encoded data removed]",
      "text/plain": [
       "<Figure size 1224x360 with 3 Axes>"
      ]
     },
     "metadata": {},
     "output_type": "display_data"
    }
   ],
   "source": [
    "fig, axes = pyplot.subplots(nrows=1, ncols=3)\n",
    "fig.set_figheight(5)\n",
    "fig.set_figwidth(17)\n",
    "\n",
    "ax = df_user_agg.sort_values(by=['active_period']).reset_index().reset_index()\\\n",
    "            .plot(x='level_0', y='active_period', kind=\"scatter\", ax=axes[0], color=\"blue\")\n",
    "ax.set_ylabel(\"active_period\")\n",
    "ax.set_xlabel(\"user\")\n",
    "ax.set_title(\"Activity period per user\")\n",
    "\n",
    "ax = df_user_agg.sort_values(by=['avg_daily_amount']).reset_index().reset_index()\\\n",
    "            .plot(x='level_0', y='avg_daily_amount', kind=\"scatter\", ax=axes[1], color=\"green\")\n",
    "ax.set_ylabel(\"avg_daily_amount\")\n",
    "ax.set_xlabel(\"user\")\n",
    "ax.set_title(\"Average Daily Amount per user\")\n",
    "\n",
    "ax = df_user_agg.sort_values(by=['avg_daily_trans']).reset_index().reset_index()\\\n",
    "            .plot(x='level_0', y='avg_daily_trans', kind=\"scatter\", ax=axes[2], color=\"red\")\n",
    "ax.set_ylabel(\"avg_daily_trans\")\n",
    "ax.set_xlabel(\"user\")\n",
    "ax.set_title(\"Average Daily Number of transactions per user\")\n",
    "\n",
    "fig.show()"
   ]
  },
  {
   "cell_type": "markdown",
   "metadata": {},
   "source": [
    "### Frequency histograms the three features 'active_period', 'avg_daily_amount' and 'avg_daily_trans'\n",
    "\n",
    "A simple call for the plot.hist function in Pandas can show us the frequency of the values.\n",
    "I have set the number of bin to 30. This parameter is used for illustartion, any other reasonable value can be used.\n",
    "- The figures confirm that each of 'avg_daily_amount' and 'avg_daily_trans' features is extremely skewed to the right. The vast majority of the data falls in the first bin to the left (the bin of the smallest values).\n",
    "- we can identify two dominant bins in the 'active_period' hitogram. The extreme left (the smallest values) and extreme right bins (the largest values), which means that most of the merchants are active for very short period, and many users are active for long period.\n",
    "- This highlights some points that need attention from the business/sales specialists:\n",
    "  - **why most of the users are only active for short period?** this is an important question that needs to be answered to reduce the churn rate.\n",
    "  - Almost all merchants have low-volume (i.e. low number of transaction per day, and low average daily amount). it looks like the company is successful in attracing these customers. **Is this true? maybe the high churn rate is giving the illusion that the low-volume customers are attracted successfully to the business.  In any case, the sales and data analytics teams need to know why high-volumn merchants are as frequent**."
   ]
  },
  {
   "cell_type": "code",
   "execution_count": 553,
   "metadata": {},
   "outputs": [
    {
     "data": {
      "image/png": "[encoded data removed]",
      "text/plain": [
       "<Figure size 1152x360 with 3 Axes>"
      ]
     },
     "metadata": {
      "needs_background": "light"
     },
     "output_type": "display_data"
    }
   ],
   "source": [
    "from matplotlib import pyplot\n",
    "\n",
    "df_user_agg = df_user_agg[['user', 'active_period', 'avg_daily_amount', 'avg_daily_trans']]\n",
    "\n",
    "fig, axes = pyplot.subplots(nrows=1, ncols=3)\n",
    "fig.set_figheight(5)\n",
    "fig.set_figwidth(16)\n",
    "\n",
    "ax = df_user_agg['active_period'].plot.hist(bins=30, ax=axes[0], color=\"blue\")\n",
    "ax.set_xlabel(\"active_period\")\n",
    "ax.set_title(\"Frequency distribution of Active Periods\")\n",
    "\n",
    "ax =df_user_agg['avg_daily_amount'].plot.hist(bins=30, ax=axes[1], color=\"green\")\n",
    "ax.set_xlabel(\"avg_daily_amount\")\n",
    "ax.set_title(\"Frequency distribution \\n(average daily amount)\")\n",
    "\n",
    "ax = df_user_agg['avg_daily_trans'].plot.hist(bins=30, ax=axes[2], color=\"red\")\n",
    "ax.set_xlabel(\"avg_daily_trans\")\n",
    "ax.set_title(\"Frequency distribution \\n(average daily transactions)\")\n",
    "\n",
    "fig.show()"
   ]
  },
  {
   "cell_type": "markdown",
   "metadata": {},
   "source": [
    "### Semantic Quantisation of the data\n",
    "\n",
    "An effective and less technical visualisation is the heatmap or grid views. They help greatly in providing a segmented visualisation of the data.\n",
    "\n",
    "The three features can be quantized into semantic intervals. Here I decided to do an ad-hoc quantization based on my observations in the previous sections.\n",
    "- **Quantization of active_period**: as there is many merchants with very short activity period, I have decided to create a dedicated bin for the merchants who were active for only one day. The bin for the merchants active between 2 days and one week. Then I used the median and the maximum values of the active_period to create 2 remaining bins. The result is four bins, labeled semantically as \"one_day\", \"one_week\", \"short\" and \"long\".\n",
    "- **Quantizing the avg_daily_amount**: I created a dedicated bin for the merchants who has zero amount, then I used the minimum, median and maximum avg_daily_amount to create 2 reamining bins. The result is three bins, labeled semantically as \"zero\", \"low\" and \"high\".\n",
    "- **Quantizing the avg_daily_trans**: I simply used the minimum, median and maximum values to create two bins. The  bins are sematntically labeled as \"low_freq\", \"high_freq\".\n",
    "\n",
    "Remark:\n",
    "- The median is used because it is a robust statistic compared to the average that can change if we add one outlaier.\n",
    "- I used Pandas embedded functions: median, max, min and **[cut](https://pandas.pydata.org/pandas-docs/version/0.23.4/generated/pandas.cut.html)** as shown in the next three cells."
   ]
  },
  {
   "cell_type": "code",
   "execution_count": 580,
   "metadata": {},
   "outputs": [],
   "source": [
    "active_period_median = df_user_agg['active_period'].median()\n",
    "active_period_max = df_user_agg['active_period'].max()\n",
    "active_period_min = df_user_agg['active_period'].min()\n",
    "\n",
    "avg_daily_amount_median = df_user_agg['avg_daily_amount'].median()\n",
    "avg_daily_amount_max = df_user_agg['avg_daily_amount'].max()\n",
    "avg_daily_amount_min = df_user_agg['avg_daily_amount'].min()\n",
    "\n",
    "avg_daily_trans_median = df_user_agg['avg_daily_trans'].median()\n",
    "avg_daily_trans_max = df_user_agg['avg_daily_trans'].max()\n",
    "avg_daily_trans_min = df_user_agg['avg_daily_trans'].min()"
   ]
  },
  {
   "cell_type": "code",
   "execution_count": 581,
   "metadata": {},
   "outputs": [],
   "source": [
    "df_user_agg['active_length'] = pd.cut(df_user_agg['active_period'], bins=[0, 1, 7, active_period_median,active_period_max], labels=[\"one_day\", \"one_week\", \"short\", \"long\"])\n",
    "df_user_agg['avg_amount'] = pd.cut(df_user_agg['avg_daily_amount'], bins=[-0.01, avg_daily_amount_min+0.001,avg_daily_amount_median,avg_daily_amount_max], labels=[\"zero\", \"low\", \"high\"])\n",
    "df_user_agg['freq_trans'] = pd.cut(df_user_agg['avg_daily_trans'], bins=[avg_daily_trans_min-1,avg_daily_trans_median,avg_daily_trans_max], labels=[\"low_freq\", \"high_freq\"])"
   ]
  },
  {
   "cell_type": "code",
   "execution_count": 582,
   "metadata": {},
   "outputs": [
    {
     "data": {
      "text/html": [
       "<div>\n",
       "<style scoped>\n",
       "    .dataframe tbody tr th:only-of-type {\n",
       "        vertical-align: middle;\n",
       "    }\n",
       "\n",
       "    .dataframe tbody tr th {\n",
       "        vertical-align: top;\n",
       "    }\n",
       "\n",
       "    .dataframe thead th {\n",
       "        text-align: right;\n",
       "    }\n",
       "</style>\n",
       "<table border=\"1\" class=\"dataframe\">\n",
       "  <thead>\n",
       "    <tr style=\"text-align: right;\">\n",
       "      <th></th>\n",
       "      <th>user</th>\n",
       "      <th>active_period</th>\n",
       "      <th>avg_daily_amount</th>\n",
       "      <th>avg_daily_trans</th>\n",
       "      <th>active_length</th>\n",
       "      <th>avg_amount</th>\n",
       "      <th>freq_trans</th>\n",
       "    </tr>\n",
       "  </thead>\n",
       "  <tbody>\n",
       "    <tr>\n",
       "      <th>0</th>\n",
       "      <td>00038f0484334ac047449166cfbbf6452b31c85c</td>\n",
       "      <td>79</td>\n",
       "      <td>12396.493671</td>\n",
       "      <td>3.924051</td>\n",
       "      <td>short</td>\n",
       "      <td>high</td>\n",
       "      <td>high_freq</td>\n",
       "    </tr>\n",
       "    <tr>\n",
       "      <th>1</th>\n",
       "      <td>0012a74e2bb1ab0073b2e18532e87474b6b7cfca</td>\n",
       "      <td>6</td>\n",
       "      <td>1523.333333</td>\n",
       "      <td>0.333333</td>\n",
       "      <td>one_week</td>\n",
       "      <td>low</td>\n",
       "      <td>high_freq</td>\n",
       "    </tr>\n",
       "    <tr>\n",
       "      <th>2</th>\n",
       "      <td>001855810c25d8bb03210f8c0114de27da9cd76c</td>\n",
       "      <td>359</td>\n",
       "      <td>4196.292479</td>\n",
       "      <td>0.543175</td>\n",
       "      <td>long</td>\n",
       "      <td>high</td>\n",
       "      <td>high_freq</td>\n",
       "    </tr>\n",
       "    <tr>\n",
       "      <th>3</th>\n",
       "      <td>001f3978fa7cad62f2e2ddfa155184a316282b0e</td>\n",
       "      <td>358</td>\n",
       "      <td>7735.709497</td>\n",
       "      <td>0.463687</td>\n",
       "      <td>long</td>\n",
       "      <td>high</td>\n",
       "      <td>high_freq</td>\n",
       "    </tr>\n",
       "    <tr>\n",
       "      <th>4</th>\n",
       "      <td>00317873b9dcbcff6759f7ec4225d8531520fdcb</td>\n",
       "      <td>3</td>\n",
       "      <td>2686.000000</td>\n",
       "      <td>0.666667</td>\n",
       "      <td>one_week</td>\n",
       "      <td>high</td>\n",
       "      <td>high_freq</td>\n",
       "    </tr>\n",
       "  </tbody>\n",
       "</table>\n",
       "</div>"
      ],
      "text/plain": [
       "                                       user  active_period  avg_daily_amount  \\\n",
       "0  00038f0484334ac047449166cfbbf6452b31c85c             79      12396.493671   \n",
       "1  0012a74e2bb1ab0073b2e18532e87474b6b7cfca              6       1523.333333   \n",
       "2  001855810c25d8bb03210f8c0114de27da9cd76c            359       4196.292479   \n",
       "3  001f3978fa7cad62f2e2ddfa155184a316282b0e            358       7735.709497   \n",
       "4  00317873b9dcbcff6759f7ec4225d8531520fdcb              3       2686.000000   \n",
       "\n",
       "   avg_daily_trans active_length avg_amount freq_trans  \n",
       "0         3.924051         short       high  high_freq  \n",
       "1         0.333333      one_week        low  high_freq  \n",
       "2         0.543175          long       high  high_freq  \n",
       "3         0.463687          long       high  high_freq  \n",
       "4         0.666667      one_week       high  high_freq  "
      ]
     },
     "execution_count": 582,
     "metadata": {},
     "output_type": "execute_result"
    }
   ],
   "source": [
    "df_user_agg.head()"
   ]
  },
  {
   "cell_type": "markdown",
   "metadata": {},
   "source": [
    "### Heatmap/Grid visualization\n",
    "\n",
    "Now we have the data ready we will simply use the **[seaborn](https://seaborn.pydata.org/generated/seaborn.heatmap.html)** library to build the heatmap visualization.\n",
    "- We simply pass our DataFrame (df_user_agg) to the heatmap function of seaborn. The function will aggregate the data and count the number of samples that falls in each grid.\n",
    "- **Each grid represents a segment of merchants**.\n",
    "- **The darker the color the lower the number of merchant in the segment.**\n",
    "- If no samples fall in a segment (grid), the segment will be black.\n",
    "\n",
    "**Let's start by visualizing the segmentation based on the average amount and the active period lenght.**\n",
    "\n",
    "By examining the figure we can notice the following:\n",
    "- **Many merchants (1229) are active for only one day with high amount. More investigations are needed. Although it is understandable to have relatively high amount because the average in that case is the same as the amount itself (i.e. because we are deviding by one). But some cases could be fraud. This segment is very important and need attention to understand why the merchants are falling here. Contacting these merchants directly or access more information from the CRM or other resources might be necessary to gather more information about their business and behaviour.**\n",
    "- **The majority of the merchants falls into the low average amount and long active length. While it is good to fall in the long active lengh segment, it would be good to try to move these merchants to the lower-right corner (i.e. high average amount and long active lengh). Targetting this segment could be prioritized in order to retain enhance the revenue.**\n",
    "- There is relatively few merchants in all the 'one_week' active length segments. This means that the merchants are churning in the first day or they stay for longer period. It could be good to investigate more to know why this is happening and how to prevent the churn on the first day.\n",
    "- There is significan number of merchants falling in the 'short\" active lengh segments (the [low-average-amount, short-active_length] has 1078 merchants and [high-average-amount, short-active_length] has 818 merchants). We can recommend to the sales team to target these customers as **they might be considered as customers at risk**. Targeting merchants in these segments and moving them more to the adjustent segments  on the right can help enhancing the **retaintion rate**."
   ]
  },
  {
   "cell_type": "code",
   "execution_count": 594,
   "metadata": {},
   "outputs": [
    {
     "data": {
      "image/png": "[encoded data removed]",
      "text/plain": [
       "<Figure size 720x504 with 2 Axes>"
      ]
     },
     "metadata": {},
     "output_type": "display_data"
    }
   ],
   "source": [
    "import seaborn as sns; sns.set()\n",
    "import numpy as np\n",
    "\n",
    "fig, axes = pyplot.subplots(nrows=1, ncols=1)\n",
    "fig.set_figheight(7)\n",
    "fig.set_figwidth(10)\n",
    "\n",
    "sns.heatmap(df_user_agg.pivot_table(index=[\"avg_amount\"], columns=\"active_length\", aggfunc='size', fill_value=0), vmin=0, fmt=\"d\",annot=True)\n",
    "\n",
    "fig.show()"
   ]
  },
  {
   "cell_type": "markdown",
   "metadata": {},
   "source": [
    "**In a similar way, by examining the segments based on the frequency of transactions and the active period length, we note the following**:\n",
    "- A very large number (1928) of merchants is active for only one day with a high average frequency of transactions. This corresponds to the lower left-most segment. **Similar to the lower left-most segment in the previous visualization, this segment need further investigation to understand why this is happening.** It is understandable that the average will be high as we have only one day, so the average calculation will not be similar to the number of transactions on that day. But some cases where the number of transaction is high (probably over 10) can be indicators for a fraud.\n",
    "- Similar to the figure above, analytics and sales efforts are needed to move the merchants from to the lower right-most cell. Depends on the priority, we can focus on the upper right-most segment to enhance the revenue, or on the 'short active length' segment to enahnace the retaintion rate."
   ]
  },
  {
   "cell_type": "code",
   "execution_count": 596,
   "metadata": {},
   "outputs": [
    {
     "data": {
      "image/png": "[encoded data removed]",
      "text/plain": [
       "<Figure size 720x504 with 2 Axes>"
      ]
     },
     "metadata": {},
     "output_type": "display_data"
    }
   ],
   "source": [
    "fig, axes = pyplot.subplots(nrows=1, ncols=1)\n",
    "fig.set_figheight(7)\n",
    "fig.set_figwidth(10)\n",
    "sns.heatmap(df_user_agg.pivot_table(index=[\"freq_trans\"], columns=\"active_length\", aggfunc='size', fill_value=0), vmin=0, fmt=\"d\",annot=True)\n",
    "fig.show()"
   ]
  },
  {
   "cell_type": "markdown",
   "metadata": {},
   "source": [
    "**Similar analytical reasoning can be done on the segments based on the average daily amount and the average daily transaction frequency. The priority could be to move the merchants as fast as possible from the low averge amount and low frequency segment (3213) towards the lower sgements. This will help in enhancing the revenue.**"
   ]
  },
  {
   "cell_type": "code",
   "execution_count": 601,
   "metadata": {},
   "outputs": [
    {
     "data": {
      "image/png": "[encoded data removed]",
      "text/plain": [
       "<Figure size 720x504 with 2 Axes>"
      ]
     },
     "metadata": {},
     "output_type": "display_data"
    }
   ],
   "source": [
    "fig, axes = pyplot.subplots(nrows=1, ncols=1)\n",
    "fig.set_figheight(7)\n",
    "fig.set_figwidth(10)\n",
    "\n",
    "sns.heatmap(df_user_agg.pivot_table(index=[\"avg_amount\"], columns=\"freq_trans\", aggfunc='size', fill_value=0), vmin=0, fmt=\"d\",annot=True)\n",
    "fig.show()"
   ]
  },
  {
   "cell_type": "markdown",
   "metadata": {},
   "source": [
    "# Part 2: Building Multivariate Recurrent Neural Network Forecast Model (RNN)"
   ]
  },
  {
   "cell_type": "markdown",
   "metadata": {},
   "source": [
    "## Data Preparation for RNN\n",
    "\n",
    "The first step is to prepare the dataset for applying RNN regression prediction.\n",
    "\n",
    "The current dataset is not yet in the form of a supervised learning probem. In order to acheive this goal we need to:\n",
    "- Normalise the values of each feature column.\n",
    "- Create sequential form of the feature columns for forcast prediction.\n",
    "\n",
    "**We will frame the supervised learning problem as predicting the merchant volume (i.e. the total monthly amount) for the current month, given his/her monthly amounts and frequency of transactions during the past 6 months.**\n",
    "\n",
    "First, the original DataFrame that was built in the [Loading and pre-processing of the Data section](#loading_original_anchor) is used to group the data per user, and month in order to extract the total amount and the total number of transactions per month per user."
   ]
  },
  {
   "cell_type": "code",
   "execution_count": 946,
   "metadata": {
    "collapsed": true
   },
   "outputs": [],
   "source": [
    "df_user_predict_grouped = df.groupby(['user', 'year_month', 'days_in_month']).agg({'amount_in_cents':[\"sum\", \"count\"]}).reset_index()\n",
    "df_user_predict_grouped.columns = df_user_predict_grouped.columns.droplevel(0)\n",
    "df_user_predict_grouped.columns = ['user', 'year_month', 'days_in_month', 'total_month_amount', 'total_month_trans']"
   ]
  },
  {
   "cell_type": "code",
   "execution_count": 947,
   "metadata": {
    "collapsed": true
   },
   "outputs": [],
   "source": [
    "df_user_predict_grouped = df.groupby(['user', 'year_month']).agg({'amount_in_cents':[\"sum\", \"count\"]}).reset_index()\n",
    "df_user_predict_grouped.columns = df_user_predict_grouped.columns.droplevel(0)\n",
    "df_user_predict_grouped.columns = ['user', 'year_month', 'total_month_amount', 'total_month_trans']"
   ]
  },
  {
   "cell_type": "markdown",
   "metadata": {},
   "source": [
    "Next, the features are normalized using sikit-learn MinMaxScaler as shown in the code below."
   ]
  },
  {
   "cell_type": "code",
   "execution_count": 949,
   "metadata": {},
   "outputs": [],
   "source": [
    "from sklearn import preprocessing\n",
    "\n",
    "x = df_user_predict_grouped[['total_month_amount', 'total_month_trans']].values\n",
    "x = x.astype('float32')\n",
    "min_max_scaler = preprocessing.MinMaxScaler(feature_range=(1, 10))\n",
    "x_scaled = min_max_scaler.fit_transform(x)\n",
    "df_user_predict_grouped[['total_month_amount', 'total_month_trans']] = pd.DataFrame(x_scaled)"
   ]
  },
  {
   "cell_type": "markdown",
   "metadata": {},
   "source": [
    "Then the dataset is transformed into a supervised learning problem by applying the [shift](https://pandas.pydata.org/pandas-docs/stable/generated/pandas.DataFrame.shift.html) functions. The function will help us in creating a series feautre for each user, as follow:\n",
    "\n",
    "- First we sort the rows in the dataframe by user then by \"year_month\"\n",
    "- We apply the function shift 6 times for each feature total_month_amount and total_month_trans, in order to extract the values of these features in the 6 months preceeding the last active month for that user.\n",
    "- Then, we apply a sequence of operations to fill the gaps between the months (if they exsist) and to build the feature vector in a way that the prediction value will be the total monthly amount of the last active month for each user. Then the feature will be the values of the total_month_amount and the total_month_trans of the 6 months preceeding the last active month."
   ]
  },
  {
   "cell_type": "code",
   "execution_count": 903,
   "metadata": {},
   "outputs": [],
   "source": [
    "df_user_predict_grouped = df_user_predict_grouped.sort_values(by=['user', \"year_month\"])\n",
    "\n",
    "df_user_predict_grouped = df_user_predict_grouped.set_index(['user', 'year_month'])\n",
    "\n",
    "df_user_predict_grouped = df_user_predict_grouped.unstack(['year_month']).fillna(0).stack(['year_month']).reset_index()\n",
    "\n",
    "df_user_predict_grouped[\"total_month_amount-1\"] = df_user_predict_grouped.groupby(\"user\")[\"total_month_amount\"].shift(periods=1)\n",
    "df_user_predict_grouped[\"total_month_trans-1\"] = df_user_predict_grouped.groupby(\"user\")[\"total_month_trans\"].shift(periods=1)\n",
    "\n",
    "df_user_predict_grouped[\"total_month_amount-2\"] = df_user_predict_grouped.groupby(\"user\")[\"total_month_amount\"].shift(periods=2)\n",
    "df_user_predict_grouped[\"total_month_trans-2\"] = df_user_predict_grouped.groupby(\"user\")[\"total_month_trans\"].shift(periods=2)\n",
    "\n",
    "df_user_predict_grouped[\"total_month_amount-3\"] = df_user_predict_grouped.groupby(\"user\")[\"total_month_amount\"].shift(3 )\n",
    "df_user_predict_grouped[\"total_month_trans-3\"] = df_user_predict_grouped.groupby(\"user\")[\"total_month_trans\"].shift(3)\n",
    "\n",
    "df_user_predict_grouped[\"total_month_amount-4\"] = df_user_predict_grouped.groupby(\"user\")[\"total_month_amount\"].shift(4)\n",
    "df_user_predict_grouped[\"total_month_trans-4\"] = df_user_predict_grouped.groupby(\"user\")[\"total_month_trans\"].shift(4)\n",
    "\n",
    "df_user_predict_grouped[\"total_month_amount-5\"] = df_user_predict_grouped.groupby(\"user\")[\"total_month_amount\"].shift(5)\n",
    "df_user_predict_grouped[\"total_month_trans-5\"] = df_user_predict_grouped.groupby(\"user\")[\"total_month_trans\"].shift(5)\n",
    "\n",
    "df_user_predict_grouped[\"total_month_amount-6\"] = df_user_predict_grouped.groupby(\"user\")[\"total_month_amount\"].shift(6)\n",
    "df_user_predict_grouped[\"total_month_trans-6\"] = df_user_predict_grouped.groupby(\"user\")[\"total_month_trans\"].shift(6)"
   ]
  },
  {
   "cell_type": "code",
   "execution_count": 905,
   "metadata": {},
   "outputs": [],
   "source": [
    "df_user_predict_grouped['year_month_max'] = df_user_predict_grouped.loc[uuu['total_month_amount'] > 0].groupby(['user'])['year_month'].transform(max)\n",
    "df_user_predict_grouped = df_user_predict_grouped.loc[df_user_predict_grouped['year_month']==df_user_predict_grouped['year_month_max']].dropna()\n",
    "\n",
    "# Selecting the columns that will constitute the time series feature\n",
    "df_user_predict_grouped = df_user_predict_grouped[['total_month_amount-6', 'total_month_trans-6',\n",
    "                                                   'total_month_amount-5', 'total_month_trans-5',\n",
    "                                                   'total_month_amount-4', 'total_month_trans-4',\n",
    "                                                   'total_month_amount-3', 'total_month_trans-3',\n",
    "                                                   'total_month_amount-2', 'total_month_trans-2', \n",
    "                                                   'total_month_amount-1', 'total_month_trans-1', \n",
    "                                                   'total_month_amount']]"
   ]
  },
  {
   "cell_type": "code",
   "execution_count": 907,
   "metadata": {},
   "outputs": [
    {
     "data": {
      "text/html": [
       "<div>\n",
       "<style scoped>\n",
       "    .dataframe tbody tr th:only-of-type {\n",
       "        vertical-align: middle;\n",
       "    }\n",
       "\n",
       "    .dataframe tbody tr th {\n",
       "        vertical-align: top;\n",
       "    }\n",
       "\n",
       "    .dataframe thead th {\n",
       "        text-align: right;\n",
       "    }\n",
       "</style>\n",
       "<table border=\"1\" class=\"dataframe\">\n",
       "  <thead>\n",
       "    <tr style=\"text-align: right;\">\n",
       "      <th></th>\n",
       "      <th>total_month_amount-6</th>\n",
       "      <th>total_month_trans-6</th>\n",
       "      <th>total_month_amount-5</th>\n",
       "      <th>total_month_trans-5</th>\n",
       "      <th>total_month_amount-4</th>\n",
       "      <th>total_month_trans-4</th>\n",
       "      <th>total_month_amount-3</th>\n",
       "      <th>total_month_trans-3</th>\n",
       "      <th>total_month_amount-2</th>\n",
       "      <th>total_month_trans-2</th>\n",
       "      <th>total_month_amount-1</th>\n",
       "      <th>total_month_trans-1</th>\n",
       "      <th>total_month_amount</th>\n",
       "    </tr>\n",
       "  </thead>\n",
       "  <tbody>\n",
       "    <tr>\n",
       "      <th>6</th>\n",
       "      <td>0.0</td>\n",
       "      <td>0.0</td>\n",
       "      <td>0.0</td>\n",
       "      <td>0.0</td>\n",
       "      <td>0.0</td>\n",
       "      <td>0.0</td>\n",
       "      <td>35000.0</td>\n",
       "      <td>18.0</td>\n",
       "      <td>205671.0</td>\n",
       "      <td>87.0</td>\n",
       "      <td>718808.0</td>\n",
       "      <td>195.0</td>\n",
       "      <td>19844.0</td>\n",
       "    </tr>\n",
       "    <tr>\n",
       "      <th>37</th>\n",
       "      <td>0.0</td>\n",
       "      <td>0.0</td>\n",
       "      <td>0.0</td>\n",
       "      <td>0.0</td>\n",
       "      <td>0.0</td>\n",
       "      <td>0.0</td>\n",
       "      <td>0.0</td>\n",
       "      <td>0.0</td>\n",
       "      <td>0.0</td>\n",
       "      <td>0.0</td>\n",
       "      <td>0.0</td>\n",
       "      <td>0.0</td>\n",
       "      <td>9140.0</td>\n",
       "    </tr>\n",
       "    <tr>\n",
       "      <th>69</th>\n",
       "      <td>117372.0</td>\n",
       "      <td>15.0</td>\n",
       "      <td>129879.0</td>\n",
       "      <td>12.0</td>\n",
       "      <td>129637.0</td>\n",
       "      <td>23.0</td>\n",
       "      <td>244124.0</td>\n",
       "      <td>37.0</td>\n",
       "      <td>436898.0</td>\n",
       "      <td>49.0</td>\n",
       "      <td>411280.0</td>\n",
       "      <td>52.0</td>\n",
       "      <td>25494.0</td>\n",
       "    </tr>\n",
       "    <tr>\n",
       "      <th>87</th>\n",
       "      <td>516404.0</td>\n",
       "      <td>26.0</td>\n",
       "      <td>437515.0</td>\n",
       "      <td>25.0</td>\n",
       "      <td>524461.0</td>\n",
       "      <td>34.0</td>\n",
       "      <td>63981.0</td>\n",
       "      <td>7.0</td>\n",
       "      <td>54119.0</td>\n",
       "      <td>13.0</td>\n",
       "      <td>4812.0</td>\n",
       "      <td>4.0</td>\n",
       "      <td>1203.0</td>\n",
       "    </tr>\n",
       "    <tr>\n",
       "      <th>140</th>\n",
       "      <td>0.0</td>\n",
       "      <td>0.0</td>\n",
       "      <td>0.0</td>\n",
       "      <td>0.0</td>\n",
       "      <td>0.0</td>\n",
       "      <td>0.0</td>\n",
       "      <td>0.0</td>\n",
       "      <td>0.0</td>\n",
       "      <td>0.0</td>\n",
       "      <td>0.0</td>\n",
       "      <td>34154.0</td>\n",
       "      <td>1.0</td>\n",
       "      <td>16716.0</td>\n",
       "    </tr>\n",
       "  </tbody>\n",
       "</table>\n",
       "</div>"
      ],
      "text/plain": [
       "     total_month_amount-6  total_month_trans-6  total_month_amount-5  \\\n",
       "6                     0.0                  0.0                   0.0   \n",
       "37                    0.0                  0.0                   0.0   \n",
       "69               117372.0                 15.0              129879.0   \n",
       "87               516404.0                 26.0              437515.0   \n",
       "140                   0.0                  0.0                   0.0   \n",
       "\n",
       "     total_month_trans-5  total_month_amount-4  total_month_trans-4  \\\n",
       "6                    0.0                   0.0                  0.0   \n",
       "37                   0.0                   0.0                  0.0   \n",
       "69                  12.0              129637.0                 23.0   \n",
       "87                  25.0              524461.0                 34.0   \n",
       "140                  0.0                   0.0                  0.0   \n",
       "\n",
       "     total_month_amount-3  total_month_trans-3  total_month_amount-2  \\\n",
       "6                 35000.0                 18.0              205671.0   \n",
       "37                    0.0                  0.0                   0.0   \n",
       "69               244124.0                 37.0              436898.0   \n",
       "87                63981.0                  7.0               54119.0   \n",
       "140                   0.0                  0.0                   0.0   \n",
       "\n",
       "     total_month_trans-2  total_month_amount-1  total_month_trans-1  \\\n",
       "6                   87.0              718808.0                195.0   \n",
       "37                   0.0                   0.0                  0.0   \n",
       "69                  49.0              411280.0                 52.0   \n",
       "87                  13.0                4812.0                  4.0   \n",
       "140                  0.0               34154.0                  1.0   \n",
       "\n",
       "     total_month_amount  \n",
       "6               19844.0  \n",
       "37               9140.0  \n",
       "69              25494.0  \n",
       "87               1203.0  \n",
       "140             16716.0  "
      ]
     },
     "execution_count": 907,
     "metadata": {},
     "output_type": "execute_result"
    }
   ],
   "source": [
    "# This is how the prediction-ready DataFrame looks like\n",
    "df_user_predict_grouped.head()"
   ]
  },
  {
   "cell_type": "markdown",
   "metadata": {},
   "source": [
    "Now we split the data into training and test sets and we reshape it to make it suitable for Recurrent Neural Networks"
   ]
  },
  {
   "cell_type": "code",
   "execution_count": 927,
   "metadata": {},
   "outputs": [
    {
     "name": "stdout",
     "output_type": "stream",
     "text": [
      "(5861, 6, 2) (5861,) (1466, 6, 2) (1466,)\n"
     ]
    }
   ],
   "source": [
    "from sklearn.model_selection import train_test_split\n",
    "\n",
    "# split into train and test sets\n",
    "train , test = train_test_split(df_user_predict_grouped.values,test_size=0.2)\n",
    "\n",
    "# split into input and outputs\n",
    "train_X, train_y = train[:, :-1], train[:, -1]\n",
    "test_X, test_y = test[:, :-1], test[:, -1]\n",
    "\n",
    "# reshape input to be 3D [samples, timesteps, features] in our case the timesteps is 6, and we have two features\n",
    "train_X = train_X.reshape((train_X.shape[0], int(train_X.shape[1]/2), 2 ))\n",
    "test_X = test_X.reshape((test_X.shape[0], int(test_X.shape[1]/2), 2))\n",
    "print(train_X.shape, train_y.shape, test_X.shape, test_y.shape)"
   ]
  },
  {
   "cell_type": "markdown",
   "metadata": {},
   "source": [
    "## LSTM model training\n",
    "\n",
    "Classical linear methods in Machine learning can be difficult to adapt to multivariate or multiple input forecasting problems, as they do not take advantage of the sequential nature of time seriesdata , where the past input has an influence on the future ones and on the subsequent results.\n",
    "\n",
    "Recurrent Neural Netowrk (RNN) is a Deep Learning architecture that memorises the past input and takes it into consideration while processing the current one. This makes the RNNs very good candidate for timeseries forcasting.\n",
    "\n",
    "LSTM and GRU are the most commonly used types of RNNs. I decided to use LSTM but it can be easily exchenged with GRU in the code below.\n",
    "\n",
    "In this setup I am trying to solve a regression problem where we are seeking to predict the total_monthly_amount based on the past 6 months' monthly amounts and number of transactions.\n",
    "\n",
    "Remark: Please scroll to the end to see the graph."
   ]
  },
  {
   "cell_type": "code",
   "execution_count": 950,
   "metadata": {},
   "outputs": [
    {
     "name": "stdout",
     "output_type": "stream",
     "text": [
      "Train on 5861 samples, validate on 1466 samples\n",
      "Epoch 1/100\n",
      " - 15s - loss: 0.8581 - val_loss: 0.5473\n",
      "Epoch 2/100\n",
      " - 0s - loss: 0.4015 - val_loss: 0.1871\n",
      "Epoch 3/100\n",
      " - 0s - loss: 0.1178 - val_loss: 0.0330\n",
      "Epoch 4/100\n",
      " - 0s - loss: 0.0523 - val_loss: 0.0689\n",
      "Epoch 5/100\n",
      " - 0s - loss: 0.0807 - val_loss: 0.0560\n",
      "Epoch 6/100\n",
      " - 0s - loss: 0.0528 - val_loss: 0.0303\n",
      "Epoch 7/100\n",
      " - 0s - loss: 0.0419 - val_loss: 0.0334\n",
      "Epoch 8/100\n",
      " - 0s - loss: 0.0457 - val_loss: 0.0338\n",
      "Epoch 9/100\n",
      " - 0s - loss: 0.0431 - val_loss: 0.0297\n",
      "Epoch 10/100\n",
      " - 0s - loss: 0.0399 - val_loss: 0.0294\n",
      "Epoch 11/100\n",
      " - 0s - loss: 0.0398 - val_loss: 0.0298\n",
      "Epoch 12/100\n",
      " - 0s - loss: 0.0392 - val_loss: 0.0288\n",
      "Epoch 13/100\n",
      " - 0s - loss: 0.0382 - val_loss: 0.0284\n",
      "Epoch 14/100\n",
      " - 0s - loss: 0.0377 - val_loss: 0.0283\n",
      "Epoch 15/100\n",
      " - 0s - loss: 0.0371 - val_loss: 0.0281\n",
      "Epoch 16/100\n",
      " - 0s - loss: 0.0365 - val_loss: 0.0280\n",
      "Epoch 17/100\n",
      " - 0s - loss: 0.0360 - val_loss: 0.0278\n",
      "Epoch 18/100\n",
      " - 0s - loss: 0.0354 - val_loss: 0.0276\n",
      "Epoch 19/100\n",
      " - 0s - loss: 0.0348 - val_loss: 0.0274\n",
      "Epoch 20/100\n",
      " - 0s - loss: 0.0342 - val_loss: 0.0273\n",
      "Epoch 21/100\n",
      " - 0s - loss: 0.0336 - val_loss: 0.0272\n",
      "Epoch 22/100\n",
      " - 0s - loss: 0.0330 - val_loss: 0.0270\n",
      "Epoch 23/100\n",
      " - 0s - loss: 0.0324 - val_loss: 0.0269\n",
      "Epoch 24/100\n",
      " - 0s - loss: 0.0319 - val_loss: 0.0268\n",
      "Epoch 25/100\n",
      " - 0s - loss: 0.0313 - val_loss: 0.0268\n",
      "Epoch 26/100\n",
      " - 0s - loss: 0.0308 - val_loss: 0.0267\n",
      "Epoch 27/100\n",
      " - 0s - loss: 0.0303 - val_loss: 0.0267\n",
      "Epoch 28/100\n",
      " - 0s - loss: 0.0298 - val_loss: 0.0267\n",
      "Epoch 29/100\n",
      " - 0s - loss: 0.0293 - val_loss: 0.0267\n",
      "Epoch 30/100\n",
      " - 0s - loss: 0.0288 - val_loss: 0.0268\n",
      "Epoch 31/100\n",
      " - 0s - loss: 0.0284 - val_loss: 0.0268\n",
      "Epoch 32/100\n",
      " - 0s - loss: 0.0279 - val_loss: 0.0269\n",
      "Epoch 33/100\n",
      " - 0s - loss: 0.0275 - val_loss: 0.0270\n",
      "Epoch 34/100\n",
      " - 0s - loss: 0.0271 - val_loss: 0.0272\n",
      "Epoch 35/100\n",
      " - 0s - loss: 0.0267 - val_loss: 0.0274\n",
      "Epoch 36/100\n",
      " - 0s - loss: 0.0263 - val_loss: 0.0276\n",
      "Epoch 37/100\n",
      " - 0s - loss: 0.0259 - val_loss: 0.0278\n",
      "Epoch 38/100\n",
      " - 0s - loss: 0.0256 - val_loss: 0.0280\n",
      "Epoch 39/100\n",
      " - 0s - loss: 0.0253 - val_loss: 0.0283\n",
      "Epoch 40/100\n",
      " - 0s - loss: 0.0250 - val_loss: 0.0286\n",
      "Epoch 41/100\n",
      " - 0s - loss: 0.0248 - val_loss: 0.0289\n",
      "Epoch 42/100\n",
      " - 0s - loss: 0.0246 - val_loss: 0.0292\n",
      "Epoch 43/100\n",
      " - 0s - loss: 0.0244 - val_loss: 0.0296\n",
      "Epoch 44/100\n",
      " - 0s - loss: 0.0242 - val_loss: 0.0299\n",
      "Epoch 45/100\n",
      " - 0s - loss: 0.0240 - val_loss: 0.0303\n",
      "Epoch 46/100\n",
      " - 0s - loss: 0.0239 - val_loss: 0.0306\n",
      "Epoch 47/100\n",
      " - 0s - loss: 0.0238 - val_loss: 0.0309\n",
      "Epoch 48/100\n",
      " - 0s - loss: 0.0237 - val_loss: 0.0312\n",
      "Epoch 49/100\n",
      " - 0s - loss: 0.0236 - val_loss: 0.0315\n",
      "Epoch 50/100\n",
      " - 0s - loss: 0.0235 - val_loss: 0.0318\n",
      "Epoch 51/100\n",
      " - 0s - loss: 0.0234 - val_loss: 0.0320\n",
      "Epoch 52/100\n",
      " - 0s - loss: 0.0233 - val_loss: 0.0322\n",
      "Epoch 53/100\n",
      " - 0s - loss: 0.0233 - val_loss: 0.0324\n",
      "Epoch 54/100\n",
      " - 0s - loss: 0.0232 - val_loss: 0.0326\n",
      "Epoch 55/100\n",
      " - 0s - loss: 0.0232 - val_loss: 0.0327\n",
      "Epoch 56/100\n",
      " - 0s - loss: 0.0231 - val_loss: 0.0328\n",
      "Epoch 57/100\n",
      " - 0s - loss: 0.0231 - val_loss: 0.0329\n",
      "Epoch 58/100\n",
      " - 0s - loss: 0.0231 - val_loss: 0.0330\n",
      "Epoch 59/100\n",
      " - 0s - loss: 0.0230 - val_loss: 0.0331\n",
      "Epoch 60/100\n",
      " - 0s - loss: 0.0230 - val_loss: 0.0331\n",
      "Epoch 61/100\n",
      " - 0s - loss: 0.0229 - val_loss: 0.0332\n",
      "Epoch 62/100\n",
      " - 0s - loss: 0.0229 - val_loss: 0.0332\n",
      "Epoch 63/100\n",
      " - 0s - loss: 0.0229 - val_loss: 0.0332\n",
      "Epoch 64/100\n",
      " - 0s - loss: 0.0228 - val_loss: 0.0332\n",
      "Epoch 65/100\n",
      " - 0s - loss: 0.0228 - val_loss: 0.0333\n",
      "Epoch 66/100\n",
      " - 0s - loss: 0.0228 - val_loss: 0.0333\n",
      "Epoch 67/100\n",
      " - 0s - loss: 0.0227 - val_loss: 0.0333\n",
      "Epoch 68/100\n",
      " - 0s - loss: 0.0227 - val_loss: 0.0334\n",
      "Epoch 69/100\n",
      " - 0s - loss: 0.0227 - val_loss: 0.0334\n",
      "Epoch 70/100\n",
      " - 0s - loss: 0.0227 - val_loss: 0.0334\n",
      "Epoch 71/100\n",
      " - 0s - loss: 0.0226 - val_loss: 0.0335\n",
      "Epoch 72/100\n",
      " - 0s - loss: 0.0226 - val_loss: 0.0335\n",
      "Epoch 73/100\n",
      " - 0s - loss: 0.0226 - val_loss: 0.0335\n",
      "Epoch 74/100\n",
      " - 0s - loss: 0.0225 - val_loss: 0.0335\n",
      "Epoch 75/100\n",
      " - 0s - loss: 0.0225 - val_loss: 0.0335\n",
      "Epoch 76/100\n",
      " - 0s - loss: 0.0225 - val_loss: 0.0335\n",
      "Epoch 77/100\n",
      " - 0s - loss: 0.0225 - val_loss: 0.0336\n",
      "Epoch 78/100\n",
      " - 0s - loss: 0.0224 - val_loss: 0.0336\n",
      "Epoch 79/100\n",
      " - 0s - loss: 0.0224 - val_loss: 0.0336\n",
      "Epoch 80/100\n",
      " - 0s - loss: 0.0224 - val_loss: 0.0336\n",
      "Epoch 81/100\n",
      " - 0s - loss: 0.0224 - val_loss: 0.0336\n",
      "Epoch 82/100\n",
      " - 0s - loss: 0.0223 - val_loss: 0.0336\n",
      "Epoch 83/100\n",
      " - 0s - loss: 0.0223 - val_loss: 0.0336\n",
      "Epoch 84/100\n",
      " - 0s - loss: 0.0223 - val_loss: 0.0336\n",
      "Epoch 85/100\n",
      " - 0s - loss: 0.0223 - val_loss: 0.0336\n",
      "Epoch 86/100\n",
      " - 0s - loss: 0.0222 - val_loss: 0.0335\n",
      "Epoch 87/100\n",
      " - 0s - loss: 0.0222 - val_loss: 0.0335\n",
      "Epoch 88/100\n",
      " - 0s - loss: 0.0222 - val_loss: 0.0335\n",
      "Epoch 89/100\n",
      " - 0s - loss: 0.0221 - val_loss: 0.0335\n",
      "Epoch 90/100\n",
      " - 0s - loss: 0.0221 - val_loss: 0.0335\n",
      "Epoch 91/100\n",
      " - 0s - loss: 0.0221 - val_loss: 0.0335\n",
      "Epoch 92/100\n",
      " - 0s - loss: 0.0221 - val_loss: 0.0335\n",
      "Epoch 93/100\n",
      " - 0s - loss: 0.0220 - val_loss: 0.0335\n",
      "Epoch 94/100\n",
      " - 0s - loss: 0.0220 - val_loss: 0.0334\n",
      "Epoch 95/100\n",
      " - 0s - loss: 0.0220 - val_loss: 0.0334\n",
      "Epoch 96/100\n",
      " - 0s - loss: 0.0220 - val_loss: 0.0334\n",
      "Epoch 97/100\n",
      " - 0s - loss: 0.0219 - val_loss: 0.0334\n",
      "Epoch 98/100\n",
      " - 0s - loss: 0.0219 - val_loss: 0.0334\n",
      "Epoch 99/100\n",
      " - 0s - loss: 0.0219 - val_loss: 0.0334\n",
      "Epoch 100/100\n",
      " - 0s - loss: 0.0218 - val_loss: 0.0333\n"
     ]
    },
    {
     "data": {
      "image/png": "[encoded data removed]",
      "text/plain": [
       "<Figure size 432x288 with 1 Axes>"
      ]
     },
     "metadata": {},
     "output_type": "display_data"
    }
   ],
   "source": [
    "from matplotlib import pyplot\n",
    "from sklearn.metrics import mean_squared_error\n",
    "from keras.models import Sequential\n",
    "from keras.layers import Dense\n",
    "from keras.layers import LSTM\n",
    "\n",
    "# design network\n",
    "# Simple network of one LSTM layer with 50 nodes and one dense layer for the prediction\n",
    "model = Sequential()\n",
    "model.add(LSTM(50, input_shape=(train_X.shape[1], train_X.shape[2])))\n",
    "model.add(Dense(1))\n",
    "model.compile(loss='mse', optimizer='adam')\n",
    "\n",
    "# fit network\n",
    "history = model.fit(train_X, train_y, epochs=100, batch_size=1000, validation_data=(test_X, test_y), verbose=2, shuffle=False)\n",
    "\n",
    "# plot history\n",
    "pyplot.plot(history.history['loss'], label='train')\n",
    "pyplot.plot(history.history['val_loss'], label='val')\n",
    "pyplot.legend()\n",
    "pyplot.show()"
   ]
  },
  {
   "cell_type": "markdown",
   "metadata": {},
   "source": [
    "The graph shows that the model is performing equally good on the training and validation sets (The validation set is not seen before and never used to train the algorithm), this means the model will predict the next month total amount of a merchant based on his activities in the previous 6 months, in a similar way as it did in the training.\n",
    "\n",
    "More investigations and networks architectures and more data is required to enhance the model and reduce the prediction error on the validation set (this number is called val_loss, it can be seen in the result of the cell above, and our goal is to reduce it as much as we can)."
   ]
  },
  {
   "cell_type": "code",
   "execution_count": null,
   "metadata": {
    "collapsed": true
   },
   "outputs": [],
   "source": []
  }
 ],
 "metadata": {
  "kernelspec": {
   "display_name": "stripe-virtualenv",
   "language": "python",
   "name": "stripe-virtualenv"
  },
  "language_info": {
   "codemirror_mode": {
    "name": "ipython",
    "version": 3
   },
   "file_extension": ".py",
   "mimetype": "text/x-python",
   "name": "python",
   "nbconvert_exporter": "python",
   "pygments_lexer": "ipython3",
   "version": "3.6.4"
  }
 },
 "nbformat": 4,
 "nbformat_minor": 2
}
